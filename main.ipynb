{
 "cells": [
  {
   "cell_type": "code",
   "execution_count": 1,
   "id": "be0f9d75",
   "metadata": {},
   "outputs": [
    {
     "ename": "SystemExit",
     "evalue": "",
     "output_type": "error",
     "traceback": [
      "An exception has occurred, use %tb to see the full traceback.\n",
      "\u001b[1;31mSystemExit\u001b[0m\n"
     ]
    },
    {
     "name": "stderr",
     "output_type": "stream",
     "text": [
      "c:\\Users\\DELL 5401\\AppData\\Local\\Programs\\Python\\Python310\\lib\\site-packages\\IPython\\core\\interactiveshell.py:3386: UserWarning: To exit: use 'exit', 'quit', or Ctrl-D.\n",
      "  warn(\"To exit: use 'exit', 'quit', or Ctrl-D.\", stacklevel=1)\n"
     ]
    }
   ],
   "source": [
    "import io\n",
    "from base64 import b64encode,b64decode,decodebytes\n",
    "import eel\n",
    "from tkinter import Tk\n",
    "from tkinter.filedialog import askopenfilename\n",
    "from SuperResolutionClass import SuperResolution\n",
    "import numpy as np\n",
    "from PIL import Image\n",
    "from io import BytesIO\n",
    "eel.init('WebApplication')\n",
    "\n",
    "@eel.expose\n",
    "def superFunction(b64_string,fileName):\n",
    "    b64_string += \"=\" * ((4 - len(b64_string) % 4) % 4) \n",
    "    image = b64decode(b64_string)\n",
    "    lr = Image.open(BytesIO(image))\n",
    "    print(str(lr))\n",
    "    lr = np.array(lr)\n",
    "    superObject = SuperResolution()\n",
    "    hrImage = superObject.resolve_and_plot(lr,fileName)\n",
    "    encoded = b64encode(hrImage).decode(\"ascii\")\n",
    "    return \"data:image/png;base64, \" + encoded\n",
    "\n",
    "eel.start('index.html', size=(1000, 600))"
   ]
  },
  {
   "cell_type": "code",
   "execution_count": null,
   "id": "714d2570",
   "metadata": {},
   "outputs": [],
   "source": []
  }
 ],
 "metadata": {
  "kernelspec": {
   "display_name": "Python 3",
   "language": "python",
   "name": "python3"
  },
  "language_info": {
   "codemirror_mode": {
    "name": "ipython",
    "version": 3
   },
   "file_extension": ".py",
   "mimetype": "text/x-python",
   "name": "python",
   "nbconvert_exporter": "python",
   "pygments_lexer": "ipython3",
   "version": "3.10.7"
  }
 },
 "nbformat": 4,
 "nbformat_minor": 5
}
