{
 "cells": [
  {
   "cell_type": "code",
   "execution_count": 8,
   "metadata": {},
   "outputs": [],
   "source": [
    "import os\n",
    "import matplotlib.pyplot as plt"
   ]
  },
  {
   "cell_type": "code",
   "execution_count": 10,
   "metadata": {},
   "outputs": [],
   "source": [
    "\n",
    "from model.srgan import generator\n",
    "from model import resolve_single\n",
    "from PIL import Image\n",
    "import numpy as np\n",
    "from base64 import b64encode\n",
    "import os"
   ]
  },
  {
   "cell_type": "code",
   "execution_count": 11,
   "metadata": {},
   "outputs": [],
   "source": [
    "class SuperResolution:\n",
    "    def __init__(self):\n",
    "        self.gan_generator = generator()\n",
    "        self.CWD_PATH = os.getcwd()\n",
    "        self.gan_generator.load_weights(os.path.join(self.CWD_PATH,'weights','gan_generator.h5'))\n",
    "    \n",
    "    def resolve_and_plot(self,lr,fileName):\n",
    "        gan_sr = resolve_single(self.gan_generator, lr)\n",
    "        plt.imshow(gan_sr,interpolation='nearest')\n",
    "        plt.axis('off')\n",
    "        print('File name si ----------',fileName)\n",
    "        plt.savefig(os.path.join(self.CWD_PATH,'demo','HighQuality',fileName), dpi=None, facecolor='w', edgecolor='w',\n",
    "            orientation='portrait', papertype='legal', format=None,\n",
    "            transparent=False, bbox_inches='tight', pad_inches=0.0,\n",
    "            frameon=None, metadata=None)\n",
    "        gan_sr = open(os.path.join(self.CWD_PATH,'demo','HighQuality',fileName), \"rb\")\n",
    "        return gan_sr.read()"
   ]
  },
  {
   "cell_type": "code",
   "execution_count": null,
   "metadata": {},
   "outputs": [],
   "source": []
  }
 ],
 "metadata": {
  "kernelspec": {
   "display_name": "Python 3",
   "language": "python",
   "name": "python3"
  },
  "language_info": {
   "codemirror_mode": {
    "name": "ipython",
    "version": 3
   },
   "file_extension": ".py",
   "mimetype": "text/x-python",
   "name": "python",
   "nbconvert_exporter": "python",
   "pygments_lexer": "ipython3",
   "version": "3.10.7"
  },
  "orig_nbformat": 4
 },
 "nbformat": 4,
 "nbformat_minor": 2
}
